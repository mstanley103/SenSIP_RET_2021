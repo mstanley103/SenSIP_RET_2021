{
 "cells": [
  {
   "cell_type": "markdown",
   "metadata": {},
   "source": [
    "## Embedded Machine Learning<a class=\"tocSkip\">\n",
    "&copy; 2020-2021 by Michael Stanley (Mike.Stanley@ieee.org)<BR>\n",
    "Last revised: 15 June 2021\n",
    "    .\n",
    "This is the index for the embedded machine content contained in the 2021 Arizona State University RET Program."
   ]
  },
  {
   "cell_type": "markdown",
   "metadata": {},
   "source": [
    "* Dataloggers for Arduino Nano 33 BLE Sense\n",
    "  * On the PC side\n",
    "      * [HTML/Javascript-based Datalogger Application - download and invoke directly from Microsoft Edge](EmbeddedMLCourse/html/loggerV4.html)\n",
    "      * [Python-based Arduino Nano 33 BLE Sense Data Logger Application](EmbeddedMLCourse/Jupyter/Integration-Nano33.ipynb) or [short version](EmbeddedMLCourse/Jupyter/DataLogger-Nano33.ipynb)\n",
    "      * [Python code for control class used in the above](EmbeddedMLCourse/Jupyter/control_Nano33.py)\n",
    "  * Embedded code\n",
    "      * [Color sensor data logger embedded code](EmbeddedMLCourse/Embedded/Arduino/ColorSensor)\n",
    "      * [Simple multi-sensor logger embedded code](EmbeddedMLCourse/Embedded/Arduino/nano33_data_logger)\n",
    "      * [Real-time version of the multi-sensor logger code](EmbeddedMLCourse/Embedded/Arduino/nano33_data_logger_rt)\n",
    "* Foundational Material\n",
    "  * [Lecture 1 - Embedded Hardware](EmbeddedMLCourse/PDFs/Lecture1-Hardware.pdf)\n",
    "  * [Lecture 2 - Software Development](EmbeddedMLCourse/PDFs/Lecture2-Software.pdf)\n",
    "  * [Classification Explorer Jupyter Applet](EmbeddedMLCourse/Jupyter/Classification_Explorer.ipynb)\n",
    "* Analysis & Modeling\n",
    "    * Lecture 3\n",
    "        * [Lecture Notes](EmbeddedMLCourse/PDFs/Lecture3-SimpleDesignFlow.pdf)\n",
    "        * Jupyter Notebooks\n",
    "            * [Fruit Classification using Classical Machine Learning](EmbeddedMLCourse/Jupyter/Fruit_Classification.ipynb)\n",
    "            * [Fruit Classification via TensorFlow](EmbeddedMLCourse/Jupyter/Fruit_Classification_Via_Keras.ipynb)\n",
    "        * Embedded Code\n",
    "            * [Arduino Nano Code for Color Inferencing Using Classical ML](EmbeddedMLCourse/Embedded/Arduino/ColorSensorInferencing)\n",
    "            * [Arduino Nano Code for Color Inferencing Using Keras/Tensorflow](EmbeddedMLCourse/Embedded/Arduino/ColorSensorKerasInferencing)\n",
    "    * Lecture 4\n",
    "        * [Lecture Notes](EmbeddedMLCourse/PDFs/Lecture4-IncludingFeatures.pdf)\n",
    "        * [Feature Extraction](EmbeddedMLCourse/Jupyter/Feature_Extraction_Using_Pandas.ipynb)\n",
    "        * [Feature Selection](EmbeddedMLCourse/Jupyter/Feature_Selection.ipynb)\n",
    "        * [Classification using scikit-Learn](EmbeddedMLCourse/Jupyter/Simple_Classification.ipynb)\n",
    "        * [Classification using Tensorflow-Lite and Keras](EmbeddedMLCourse/Jupyter/keras_example.ipynb)\n",
    "        * [fanDemo embedded code](EmbeddedMLCourse/Embedded/Arduino/fanDemo)\n",
    "\n",
    "* 3rd Party web pages\n",
    "    * [Online tool for drawing NN architectures](http://alexlenail.me/NN-SVG/LeNet.html)\n",
    "    * [Online visualization tool for CNNs](https://www.cs.ryerson.ca/~aharley/vis)\n",
    "    * [Google ML Training (has nice section on GANs)](https://developers.google.com/machine-learning/crash-course)\n",
    "    * [Online GanLab](https://poloclub.github.io/ganlab/)\n",
    "    * [Google Colab](https://colab.research.google.com/)\n",
    "    * [scikit-learn](https://scikit-learn.org)\n",
    "    * [Tensorflow-Lite for Microcontrollers](https://www.tensorflow.org/lite/microcontrollers)"
   ]
  },
  {
   "cell_type": "code",
   "execution_count": null,
   "metadata": {},
   "outputs": [],
   "source": []
  }
 ],
 "metadata": {
  "kernelspec": {
   "display_name": "Python 3",
   "language": "python",
   "name": "python3"
  },
  "language_info": {
   "codemirror_mode": {
    "name": "ipython",
    "version": 3
   },
   "file_extension": ".py",
   "mimetype": "text/x-python",
   "name": "python",
   "nbconvert_exporter": "python",
   "pygments_lexer": "ipython3",
   "version": "3.7.6"
  },
  "toc": {
   "base_numbering": 1,
   "nav_menu": {},
   "number_sections": true,
   "sideBar": true,
   "skip_h1_title": true,
   "title_cell": "Table of Contents",
   "title_sidebar": "Contents",
   "toc_cell": false,
   "toc_position": {},
   "toc_section_display": true,
   "toc_window_display": false
  }
 },
 "nbformat": 4,
 "nbformat_minor": 2
}
