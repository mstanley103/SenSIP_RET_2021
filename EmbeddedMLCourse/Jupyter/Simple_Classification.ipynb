{
 "cells": [
  {
   "cell_type": "markdown",
   "metadata": {},
   "source": [
    "# Simple Classification<a class=\"tocSkip\">\n",
    "&copy; 2020 by Michael Stanley (Mike.Stanley@ieee.org)<BR>\n",
    "Last revised: 27 July 2020\n",
    "    \n",
    "Requires presence of features.csv in thee same directory as this notebook.  That file should contain \"features\"\n",
    "extracted from raw data by a prior step in the process (ex: Feature_Extraction_Using_Pandas).\n",
    "\n",
    "Computed feature types can include things like: min, max, mean, std, variance, skew factor, kurtosis and sum.  \n",
    "The list of possible feature types is literally unlimited.\n",
    "\n",
    "# Import standard Models"
   ]
  },
  {
   "cell_type": "code",
   "execution_count": 1,
   "metadata": {},
   "outputs": [],
   "source": [
    "import numpy as np\n",
    "import matplotlib.pyplot as plt\n",
    "from matplotlib.colors import LogNorm\n",
    "from sklearn import mixture, svm, metrics\n",
    "from sklearn.neural_network import MLPClassifier\n",
    "import pandas as pd\n",
    "from sklearn.model_selection import train_test_split\n",
    "from sklearn.ensemble import AdaBoostClassifier\n",
    "from sklearn.tree import DecisionTreeClassifier\n",
    "from sklearn.linear_model import LogisticRegression\n",
    "from sklearn.preprocessing import StandardScaler"
   ]
  },
  {
   "cell_type": "code",
   "execution_count": 2,
   "metadata": {},
   "outputs": [],
   "source": [
    "# set default font for charts\n",
    "font = {'family' : 'serif',\n",
    "        'weight' : 'bold',\n",
    "        'size'   : 12}\n",
    "\n",
    "plt.rc('font', **font)"
   ]
  },
  {
   "cell_type": "markdown",
   "metadata": {},
   "source": [
    "# Read CSV file\n",
    "Read features.csv, shuffles it and then break that data into separate features and results dataFrames.  Then display the first few lines of the shuffled dataset."
   ]
  },
  {
   "cell_type": "code",
   "execution_count": 3,
   "metadata": {},
   "outputs": [
    {
     "name": "stdout",
     "output_type": "stream",
     "text": [
      "Data shape retreived from the features data file is:  (262, 33)\n"
     ]
    },
    {
     "data": {
      "text/html": [
       "<div>\n",
       "<style scoped>\n",
       "    .dataframe tbody tr th:only-of-type {\n",
       "        vertical-align: middle;\n",
       "    }\n",
       "\n",
       "    .dataframe tbody tr th {\n",
       "        vertical-align: top;\n",
       "    }\n",
       "\n",
       "    .dataframe thead th {\n",
       "        text-align: right;\n",
       "    }\n",
       "</style>\n",
       "<table border=\"1\" class=\"dataframe\">\n",
       "  <thead>\n",
       "    <tr style=\"text-align: right;\">\n",
       "      <th></th>\n",
       "      <th>maxAudio_max</th>\n",
       "      <th>acc_max</th>\n",
       "      <th>mag_max</th>\n",
       "      <th>gyro_max</th>\n",
       "      <th>maxAudio_min</th>\n",
       "      <th>acc_min</th>\n",
       "      <th>mag_min</th>\n",
       "      <th>gyro_min</th>\n",
       "      <th>maxAudio_skew</th>\n",
       "      <th>acc_skew</th>\n",
       "      <th>...</th>\n",
       "      <th>gyro_mean</th>\n",
       "      <th>maxAudio_std</th>\n",
       "      <th>acc_std</th>\n",
       "      <th>mag_std</th>\n",
       "      <th>gyro_std</th>\n",
       "      <th>maxAudio_var</th>\n",
       "      <th>acc_var</th>\n",
       "      <th>mag_var</th>\n",
       "      <th>gyro_var</th>\n",
       "      <th>class</th>\n",
       "    </tr>\n",
       "  </thead>\n",
       "  <tbody>\n",
       "    <tr>\n",
       "      <th>0</th>\n",
       "      <td>287.0</td>\n",
       "      <td>1.05168</td>\n",
       "      <td>181.693</td>\n",
       "      <td>4.91862</td>\n",
       "      <td>125.0</td>\n",
       "      <td>0.940416</td>\n",
       "      <td>54.5334</td>\n",
       "      <td>4.48537</td>\n",
       "      <td>0.060366</td>\n",
       "      <td>0.112127</td>\n",
       "      <td>...</td>\n",
       "      <td>4.63595</td>\n",
       "      <td>53.8679</td>\n",
       "      <td>0.043730</td>\n",
       "      <td>49.6377</td>\n",
       "      <td>0.147377</td>\n",
       "      <td>2901.75</td>\n",
       "      <td>0.001912</td>\n",
       "      <td>2463.900</td>\n",
       "      <td>0.021720</td>\n",
       "      <td>2.0</td>\n",
       "    </tr>\n",
       "    <tr>\n",
       "      <th>1</th>\n",
       "      <td>411.0</td>\n",
       "      <td>1.10449</td>\n",
       "      <td>194.171</td>\n",
       "      <td>4.94538</td>\n",
       "      <td>273.0</td>\n",
       "      <td>0.909384</td>\n",
       "      <td>56.0850</td>\n",
       "      <td>4.35419</td>\n",
       "      <td>0.908710</td>\n",
       "      <td>-0.046672</td>\n",
       "      <td>...</td>\n",
       "      <td>4.67629</td>\n",
       "      <td>40.9603</td>\n",
       "      <td>0.062044</td>\n",
       "      <td>52.9122</td>\n",
       "      <td>0.189117</td>\n",
       "      <td>1677.75</td>\n",
       "      <td>0.003849</td>\n",
       "      <td>2799.700</td>\n",
       "      <td>0.035765</td>\n",
       "      <td>3.0</td>\n",
       "    </tr>\n",
       "    <tr>\n",
       "      <th>2</th>\n",
       "      <td>322.0</td>\n",
       "      <td>1.05388</td>\n",
       "      <td>185.614</td>\n",
       "      <td>4.97176</td>\n",
       "      <td>174.0</td>\n",
       "      <td>0.935160</td>\n",
       "      <td>61.0443</td>\n",
       "      <td>4.45190</td>\n",
       "      <td>1.183500</td>\n",
       "      <td>0.484330</td>\n",
       "      <td>...</td>\n",
       "      <td>4.72728</td>\n",
       "      <td>44.5724</td>\n",
       "      <td>0.044025</td>\n",
       "      <td>46.4507</td>\n",
       "      <td>0.163387</td>\n",
       "      <td>1986.69</td>\n",
       "      <td>0.001938</td>\n",
       "      <td>2157.670</td>\n",
       "      <td>0.026695</td>\n",
       "      <td>2.0</td>\n",
       "    </tr>\n",
       "    <tr>\n",
       "      <th>3</th>\n",
       "      <td>237.0</td>\n",
       "      <td>1.05948</td>\n",
       "      <td>141.134</td>\n",
       "      <td>4.87497</td>\n",
       "      <td>101.0</td>\n",
       "      <td>0.934466</td>\n",
       "      <td>54.8262</td>\n",
       "      <td>4.07888</td>\n",
       "      <td>1.158520</td>\n",
       "      <td>-0.355692</td>\n",
       "      <td>...</td>\n",
       "      <td>4.50425</td>\n",
       "      <td>47.8812</td>\n",
       "      <td>0.042329</td>\n",
       "      <td>26.7623</td>\n",
       "      <td>0.231887</td>\n",
       "      <td>2292.61</td>\n",
       "      <td>0.001792</td>\n",
       "      <td>716.219</td>\n",
       "      <td>0.053771</td>\n",
       "      <td>1.0</td>\n",
       "    </tr>\n",
       "    <tr>\n",
       "      <th>4</th>\n",
       "      <td>460.0</td>\n",
       "      <td>1.07994</td>\n",
       "      <td>195.409</td>\n",
       "      <td>4.80730</td>\n",
       "      <td>275.0</td>\n",
       "      <td>0.913876</td>\n",
       "      <td>54.8983</td>\n",
       "      <td>4.43380</td>\n",
       "      <td>0.270347</td>\n",
       "      <td>-0.452220</td>\n",
       "      <td>...</td>\n",
       "      <td>4.61129</td>\n",
       "      <td>61.3714</td>\n",
       "      <td>0.060430</td>\n",
       "      <td>54.9351</td>\n",
       "      <td>0.137951</td>\n",
       "      <td>3766.44</td>\n",
       "      <td>0.003652</td>\n",
       "      <td>3017.860</td>\n",
       "      <td>0.019030</td>\n",
       "      <td>3.0</td>\n",
       "    </tr>\n",
       "  </tbody>\n",
       "</table>\n",
       "<p>5 rows × 33 columns</p>\n",
       "</div>"
      ],
      "text/plain": [
       "   maxAudio_max  acc_max  mag_max  gyro_max  maxAudio_min   acc_min  mag_min  \\\n",
       "0         287.0  1.05168  181.693   4.91862         125.0  0.940416  54.5334   \n",
       "1         411.0  1.10449  194.171   4.94538         273.0  0.909384  56.0850   \n",
       "2         322.0  1.05388  185.614   4.97176         174.0  0.935160  61.0443   \n",
       "3         237.0  1.05948  141.134   4.87497         101.0  0.934466  54.8262   \n",
       "4         460.0  1.07994  195.409   4.80730         275.0  0.913876  54.8983   \n",
       "\n",
       "   gyro_min  maxAudio_skew  acc_skew  ...  gyro_mean  maxAudio_std   acc_std  \\\n",
       "0   4.48537       0.060366  0.112127  ...    4.63595       53.8679  0.043730   \n",
       "1   4.35419       0.908710 -0.046672  ...    4.67629       40.9603  0.062044   \n",
       "2   4.45190       1.183500  0.484330  ...    4.72728       44.5724  0.044025   \n",
       "3   4.07888       1.158520 -0.355692  ...    4.50425       47.8812  0.042329   \n",
       "4   4.43380       0.270347 -0.452220  ...    4.61129       61.3714  0.060430   \n",
       "\n",
       "   mag_std  gyro_std  maxAudio_var   acc_var   mag_var  gyro_var  class  \n",
       "0  49.6377  0.147377       2901.75  0.001912  2463.900  0.021720    2.0  \n",
       "1  52.9122  0.189117       1677.75  0.003849  2799.700  0.035765    3.0  \n",
       "2  46.4507  0.163387       1986.69  0.001938  2157.670  0.026695    2.0  \n",
       "3  26.7623  0.231887       2292.61  0.001792   716.219  0.053771    1.0  \n",
       "4  54.9351  0.137951       3766.44  0.003652  3017.860  0.019030    3.0  \n",
       "\n",
       "[5 rows x 33 columns]"
      ]
     },
     "metadata": {},
     "output_type": "display_data"
    }
   ],
   "source": [
    "fn = 'features.csv'\n",
    "data = pd.read_csv(fn)\n",
    "print('Data shape retreived from the features data file is: ', str(data.shape))\n",
    "\n",
    "# Shuffle the data\n",
    "data = data.sample(frac=1).reset_index(drop=True)\n",
    "\n",
    "display(data.head())"
   ]
  },
  {
   "cell_type": "code",
   "execution_count": 4,
   "metadata": {},
   "outputs": [],
   "source": [
    "f2 = 'acc_std'\n",
    "f1 = 'maxAudio_sum'\n",
    "# Split out features and class membership into separate tables.\n",
    "features = data[[f1, f2]]\n",
    "results=data['class'].astype(int)"
   ]
  },
  {
   "cell_type": "markdown",
   "metadata": {},
   "source": [
    "# Split data into training and test sets"
   ]
  },
  {
   "cell_type": "code",
   "execution_count": 5,
   "metadata": {},
   "outputs": [],
   "source": [
    "X_train, X_test, Y_train, Y_test = train_test_split(features.to_numpy(), results.to_numpy(), test_size=0.33, random_state=37)\n"
   ]
  },
  {
   "cell_type": "markdown",
   "metadata": {},
   "source": [
    "# Subroutine for XY plots: myScatter()\n",
    "This utility function can create an XY plot of two features found in the input table.  We use it here to reproduce a figure originally created by the Feature_Extraction_Using_Pandas notebook used to create our test features.csv.\n",
    "\n",
    "This particular function works with numpy arrays only.  Contrast that with myScatterPandas (found in other notebooks in this series) which expects a Pandas dataframe as input."
   ]
  },
  {
   "cell_type": "code",
   "execution_count": 6,
   "metadata": {},
   "outputs": [
    {
     "name": "stdout",
     "output_type": "stream",
     "text": [
      "Unnormalized input data\n"
     ]
    },
    {
     "data": {
      "image/png": "[encoded data removed]",
      "text/plain": [
       "<Figure size 432x288 with 1 Axes>"
      ]
     },
     "metadata": {
      "needs_background": "light"
     },
     "output_type": "display_data"
    }
   ],
   "source": [
    "def myScatter(X, idx0, idx1, Y):\n",
    "    labels=['Off', 'Low', 'Medium', 'High']\n",
    "    color = ['black', 'green', 'blue', 'red']\n",
    "    fig, ax = plt.subplots()\n",
    "    x0 = X[:,idx0]\n",
    "    x1 = X[:,idx1]\n",
    "    for g in np.unique(Y):\n",
    "        ix = np.where(g==Y)\n",
    "        c=color[g]\n",
    "        ax.scatter(x0[ix], x1[ix], c=c, label=labels[g])\n",
    "    plt.legend(loc='best', frameon=False, labels=['Off', 'Low', 'Medium', 'High'])\n",
    "    plt.xlabel('feature'+str(idx0))\n",
    "    plt.ylabel('feature'+str(idx1))\n",
    "\n",
    "print('Unnormalized input data')\n",
    "myScatter(X_train, 0, 1, Y_train)\n"
   ]
  },
  {
   "cell_type": "markdown",
   "metadata": {},
   "source": [
    "# Normalize input data\n",
    "This next cell utilizes a scikit-Learn StandardScaler module.  It is FIT ONLY on the training data, but applies to both training and test data.  This distinction is required to avoid data snooping issues."
   ]
  },
  {
   "cell_type": "code",
   "execution_count": 7,
   "metadata": {},
   "outputs": [
    {
     "name": "stdout",
     "output_type": "stream",
     "text": [
      "Normalized Training Set\n"
     ]
    },
    {
     "data": {
      "image/png": "[encoded data removed]",
      "text/plain": [
       "<Figure size 432x288 with 1 Axes>"
      ]
     },
     "metadata": {
      "needs_background": "light"
     },
     "output_type": "display_data"
    }
   ],
   "source": [
    "scaler = StandardScaler()\n",
    "scaler.fit(X_train)\n",
    "X_train = scaler.transform(X_train)\n",
    "X_test  = scaler.transform(X_test)\n",
    "print('Normalized Training Set')\n",
    "myScatter(X_train, 0, 1, Y_train)"
   ]
  },
  {
   "cell_type": "code",
   "execution_count": 8,
   "metadata": {},
   "outputs": [
    {
     "name": "stdout",
     "output_type": "stream",
     "text": [
      "Normalized Test Set\n"
     ]
    },
    {
     "data": {
      "image/png": "[encoded data removed]",
      "text/plain": [
       "<Figure size 432x288 with 1 Axes>"
      ]
     },
     "metadata": {
      "needs_background": "light"
     },
     "output_type": "display_data"
    }
   ],
   "source": [
    "print('Normalized Test Set')\n",
    "myScatter(X_test, 0, 1, Y_test)"
   ]
  },
  {
   "cell_type": "markdown",
   "metadata": {},
   "source": [
    "# Train a model\n",
    "We've included three classifier options here: multilayer perceptron, AdaBoost Classifier which uses max 2-deep decision\n",
    "trees as base estimators, and LogisticRegression.  Choose mt=1, 2 or 3 to select which one you want to run."
   ]
  },
  {
   "cell_type": "code",
   "execution_count": 9,
   "metadata": {},
   "outputs": [
    {
     "name": "stdout",
     "output_type": "stream",
     "text": [
      "Iteration 1, loss = 0.98328706\n",
      "Iteration 2, loss = 0.45605657\n",
      "Iteration 3, loss = 0.17950471\n",
      "Iteration 4, loss = 0.09922858\n",
      "Iteration 5, loss = 0.07278052\n",
      "Iteration 6, loss = 0.06070111\n",
      "Iteration 7, loss = 0.04979556\n",
      "Iteration 8, loss = 0.04402032\n",
      "Iteration 9, loss = 0.03930530\n",
      "Iteration 10, loss = 0.03517301\n",
      "Iteration 11, loss = 0.03284360\n",
      "Iteration 12, loss = 0.03379290\n",
      "Iteration 13, loss = 0.04308887\n",
      "Iteration 14, loss = 0.03090027\n",
      "Iteration 15, loss = 0.02696128\n",
      "Iteration 16, loss = 0.02678400\n",
      "Iteration 17, loss = 0.02533290\n",
      "Iteration 18, loss = 0.02698027\n",
      "Iteration 19, loss = 0.02626648\n",
      "Iteration 20, loss = 0.03700637\n",
      "Iteration 21, loss = 0.02165524\n",
      "Iteration 22, loss = 0.02254306\n",
      "Iteration 23, loss = 0.01959542\n",
      "Iteration 24, loss = 0.01990283\n",
      "Iteration 25, loss = 0.02212373\n",
      "Iteration 26, loss = 0.02123040\n",
      "Iteration 27, loss = 0.02204259\n",
      "Iteration 28, loss = 0.02193928\n",
      "Iteration 29, loss = 0.02098990\n",
      "Iteration 30, loss = 0.01602776\n",
      "Iteration 31, loss = 0.02241943\n",
      "Iteration 32, loss = 0.02133060\n",
      "Iteration 33, loss = 0.02193500\n",
      "Iteration 34, loss = 0.01884877\n",
      "Iteration 35, loss = 0.02571469\n",
      "Iteration 36, loss = 0.02172486\n",
      "Iteration 37, loss = 0.01867525\n",
      "Iteration 38, loss = 0.01763215\n",
      "Iteration 39, loss = 0.01957078\n",
      "Iteration 40, loss = 0.01677116\n",
      "Iteration 41, loss = 0.01765169\n",
      "Training loss did not improve more than tol=0.000100 for 10 consecutive epochs. Stopping.\n",
      "Test set score: 1.000000\n",
      "Test set score: 0.965517\n"
     ]
    }
   ],
   "source": [
    "mt = 1\n",
    "\n",
    "if mt==1:\n",
    "    model = MLPClassifier(hidden_layer_sizes=(4,), max_iter=1000, alpha=1e-4,\n",
    "                        solver='sgd', verbose=10, random_state=1,\n",
    "                        learning_rate_init=.1, batch_size=10, shuffle=True)\n",
    "elif mt==2:\n",
    "    n_estimators=50\n",
    "    model=AdaBoostClassifier(base_estimator=DecisionTreeClassifier(max_depth=2), \n",
    "                             algorithm=\"SAMME\", n_estimators=n_estimators, random_state=777)\n",
    "elif mt==3:\n",
    "    model=LogisticRegression(C=1)   \n",
    "\n",
    "model.fit(X_train, Y_train)\n",
    "\n",
    "print(\"Test set score: %f\" % model.score(X_train, Y_train))\n",
    "print(\"Test set score: %f\" % model.score(X_test, Y_test))"
   ]
  },
  {
   "cell_type": "markdown",
   "metadata": {},
   "source": [
    "# Now look at the confusion matrices\n",
    "## Training Confusion Matrix"
   ]
  },
  {
   "cell_type": "code",
   "execution_count": 10,
   "metadata": {},
   "outputs": [
    {
     "name": "stdout",
     "output_type": "stream",
     "text": [
      "Confusion matrix for the training set\n"
     ]
    },
    {
     "data": {
      "image/png": "[encoded data removed]",
      "text/plain": [
       "<Figure size 720x576 with 2 Axes>"
      ]
     },
     "metadata": {
      "needs_background": "light"
     },
     "output_type": "display_data"
    }
   ],
   "source": [
    "names = ['C0', 'C1', 'C2', 'C3']\n",
    "fig, ax = plt.subplots(1, 1, figsize=(10,8))\n",
    "print('Confusion matrix for the training set')\n",
    "cm1=metrics.plot_confusion_matrix(model, X_train, Y_train, ax=ax, display_labels=names, cmap=plt.cm.Blues, values_format='n')"
   ]
  },
  {
   "cell_type": "markdown",
   "metadata": {},
   "source": [
    "## Test Confusion Matrix"
   ]
  },
  {
   "cell_type": "code",
   "execution_count": 11,
   "metadata": {},
   "outputs": [
    {
     "name": "stdout",
     "output_type": "stream",
     "text": [
      "Confusion matrix for the test set\n"
     ]
    },
    {
     "data": {
      "image/png": "[encoded data removed]",
      "text/plain": [
       "<Figure size 720x576 with 2 Axes>"
      ]
     },
     "metadata": {
      "needs_background": "light"
     },
     "output_type": "display_data"
    }
   ],
   "source": [
    "fig, ax = plt.subplots(1, 1, figsize=(10,8))\n",
    "print('Confusion matrix for the test set')\n",
    "cm2=metrics.plot_confusion_matrix(model, X_test, Y_test, ax=ax, display_labels=names, cmap=plt.cm.Blues, values_format='n')"
   ]
  },
  {
   "cell_type": "code",
   "execution_count": null,
   "metadata": {},
   "outputs": [],
   "source": []
  }
 ],
 "metadata": {
  "kernelspec": {
   "display_name": "Python 3",
   "language": "python",
   "name": "python3"
  },
  "language_info": {
   "codemirror_mode": {
    "name": "ipython",
    "version": 3
   },
   "file_extension": ".py",
   "mimetype": "text/x-python",
   "name": "python",
   "nbconvert_exporter": "python",
   "pygments_lexer": "ipython3",
   "version": "3.7.6"
  },
  "toc": {
   "base_numbering": 1,
   "nav_menu": {},
   "number_sections": true,
   "sideBar": true,
   "skip_h1_title": false,
   "title_cell": "Table of Contents",
   "title_sidebar": "Contents",
   "toc_cell": false,
   "toc_position": {
    "height": "calc(100% - 180px)",
    "left": "10px",
    "top": "150px",
    "width": "341.333px"
   },
   "toc_section_display": true,
   "toc_window_display": true
  }
 },
 "nbformat": 4,
 "nbformat_minor": 1
}
