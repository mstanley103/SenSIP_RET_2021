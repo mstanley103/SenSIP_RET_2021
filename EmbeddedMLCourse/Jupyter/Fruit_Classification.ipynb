{
 "cells": [
  {
   "cell_type": "markdown",
   "metadata": {},
   "source": [
    "# Fruit Classification<a class=\"tocSkip\">\n",
    "&copy; 2021 by Michael Stanley (Mike.Stanley@ieee.org)<BR>\n",
    "Last revised: 28 May 2021\n",
    "    \n",
    "This notebook demonstrates the use of a number of Scikit Learn classification algorithms.  Data was generated using the RGB sensor functionality on the Arduino Nano 33 BLE Sense board.  The RGB LED on that board was programmed to generate white light to illuminate a surface.  Then the APDS-9960 sensor converted the reflected light into Clear, Red, Green and Blue components which were then streamed to a laptop. \n",
    "    \n",
    "For this test, we use the sensor to differentiate between pictures of bananas, oranges, red and green apples.\n",
    "That data was recorded in:\n",
    "* bananas.csv\n",
    "* Oranges.csv\n",
    "* RedApples.csv\n",
    "* GreenApples.csv\n",
    "\n",
    "all of which are required by this script.  \n",
    "    \n",
    "There are 6 columns in the recorded files.  From left to right:\n",
    "<ol>\n",
    "<li>sample number assigned by the laptop-based data logger program\n",
    "<li>Red component (R)\n",
    "<li>Green component (G)\n",
    "<li>Blue component (B)\n",
    "<li>Clear component (C)\n",
    "<li>sample number assigned by the Arduino\n",
    "</ol>\n",
    "    \n",
    "(1) and (6) will not match in general, as (6) is assigned from board power up and may also have gaps for times when the data logging process was paused.  They are not needed for the analysis and are dropped early in the processing.\n",
    "    \n",
    "![Misc. Fruits](../images/Fruit/fruits.png)    \n",
    "    \n",
    "This notebook uses micromlgen, sklearn-porter and emlearn libraries.  They can be used to export a variety of trained models straight into C code that can be embedded on a microcontroller.\n",
    "    \n",
    "You can install these libraries using the pip commands in the following cells.  Just uncomment a cell, execute it once, then recomment.  You only have to run them once to update your python environment."
   ]
  },
  {
   "cell_type": "code",
   "execution_count": 1,
   "metadata": {},
   "outputs": [],
   "source": [
    "#pip install micromlgen"
   ]
  },
  {
   "cell_type": "code",
   "execution_count": 2,
   "metadata": {},
   "outputs": [],
   "source": [
    "#pip install sklearn-porter"
   ]
  },
  {
   "cell_type": "code",
   "execution_count": 3,
   "metadata": {},
   "outputs": [],
   "source": [
    "#pip install emlearn"
   ]
  },
  {
   "cell_type": "markdown",
   "metadata": {},
   "source": [
    "# Import standard Models\n",
    "The next cell imports functions from a variety of Python modules.  These are all well-documented on the web, and a quick Google search will yield details on each."
   ]
  },
  {
   "cell_type": "code",
   "execution_count": 4,
   "metadata": {},
   "outputs": [
    {
     "name": "stderr",
     "output_type": "stream",
     "text": [
      "C:\\SPB_Data\\.conda\\envs\\sensmach\\lib\\site-packages\\sklearn\\utils\\deprecation.py:144: FutureWarning: The sklearn.tree.tree module is  deprecated in version 0.22 and will be removed in version 0.24. The corresponding classes / functions should instead be imported from sklearn.tree. Anything that cannot be imported from sklearn.tree is now part of the private API.\n",
      "  warnings.warn(message, FutureWarning)\n",
      "C:\\SPB_Data\\.conda\\envs\\sensmach\\lib\\site-packages\\sklearn\\utils\\deprecation.py:144: FutureWarning: The sklearn.ensemble.weight_boosting module is  deprecated in version 0.22 and will be removed in version 0.24. The corresponding classes / functions should instead be imported from sklearn.ensemble. Anything that cannot be imported from sklearn.ensemble is now part of the private API.\n",
      "  warnings.warn(message, FutureWarning)\n",
      "C:\\SPB_Data\\.conda\\envs\\sensmach\\lib\\site-packages\\sklearn\\utils\\deprecation.py:144: FutureWarning: The sklearn.ensemble.forest module is  deprecated in version 0.22 and will be removed in version 0.24. The corresponding classes / functions should instead be imported from sklearn.ensemble. Anything that cannot be imported from sklearn.ensemble is now part of the private API.\n",
      "  warnings.warn(message, FutureWarning)\n",
      "C:\\SPB_Data\\.conda\\envs\\sensmach\\lib\\site-packages\\sklearn\\utils\\deprecation.py:144: FutureWarning: The sklearn.svm.classes module is  deprecated in version 0.22 and will be removed in version 0.24. The corresponding classes / functions should instead be imported from sklearn.svm. Anything that cannot be imported from sklearn.svm is now part of the private API.\n",
      "  warnings.warn(message, FutureWarning)\n",
      "C:\\SPB_Data\\.conda\\envs\\sensmach\\lib\\site-packages\\sklearn\\utils\\deprecation.py:144: FutureWarning: The sklearn.neighbors.classification module is  deprecated in version 0.22 and will be removed in version 0.24. The corresponding classes / functions should instead be imported from sklearn.neighbors. Anything that cannot be imported from sklearn.neighbors is now part of the private API.\n",
      "  warnings.warn(message, FutureWarning)\n"
     ]
    }
   ],
   "source": [
    "import numpy as np\n",
    "import matplotlib.pyplot as plt\n",
    "from matplotlib.colors import LogNorm\n",
    "from sklearn import mixture, svm, metrics\n",
    "from sklearn.neural_network import MLPClassifier\n",
    "from sklearn.ensemble import RandomForestClassifier\n",
    "import pandas as pd\n",
    "from sklearn.model_selection import train_test_split\n",
    "from sklearn.ensemble import AdaBoostClassifier\n",
    "from sklearn.tree import DecisionTreeClassifier\n",
    "from sklearn.linear_model import LogisticRegression\n",
    "from sklearn.preprocessing import StandardScaler\n",
    "from sklearn.naive_bayes import GaussianNB\n",
    "from micromlgen import port\n",
    "from sklearn_porter import Porter\n",
    "import emlearn"
   ]
  },
  {
   "cell_type": "code",
   "execution_count": 5,
   "metadata": {},
   "outputs": [],
   "source": [
    "# set default font for charts\n",
    "font = {'family' : 'serif',\n",
    "        'weight' : 'bold',\n",
    "        'size'   : 12}\n",
    "\n",
    "plt.rc('font', **font)"
   ]
  },
  {
   "cell_type": "markdown",
   "metadata": {},
   "source": [
    "# Read CSV files\n",
    "* Read input CSV files into Pandas dataframes\n",
    "* Assign class values to each new dataframe as it is created (each input file corresponds to data for one class)\n",
    "* Merge those into one data frame\n",
    "* Drop the sample number columns\n",
    "* shuffle the records and then break that data into separate features and results dataFrames.  \n",
    "* Then display the first few lines of the shuffled dataset."
   ]
  },
  {
   "cell_type": "code",
   "execution_count": 6,
   "metadata": {},
   "outputs": [
    {
     "name": "stdout",
     "output_type": "stream",
     "text": [
      "Data shape retreived from the features data file is:  (452, 5)\n"
     ]
    },
    {
     "data": {
      "text/html": [
       "<div>\n",
       "<style scoped>\n",
       "    .dataframe tbody tr th:only-of-type {\n",
       "        vertical-align: middle;\n",
       "    }\n",
       "\n",
       "    .dataframe tbody tr th {\n",
       "        vertical-align: top;\n",
       "    }\n",
       "\n",
       "    .dataframe thead th {\n",
       "        text-align: right;\n",
       "    }\n",
       "</style>\n",
       "<table border=\"1\" class=\"dataframe\">\n",
       "  <thead>\n",
       "    <tr style=\"text-align: right;\">\n",
       "      <th></th>\n",
       "      <th>R</th>\n",
       "      <th>G</th>\n",
       "      <th>B</th>\n",
       "      <th>C</th>\n",
       "      <th>Class</th>\n",
       "    </tr>\n",
       "  </thead>\n",
       "  <tbody>\n",
       "    <tr>\n",
       "      <th>0</th>\n",
       "      <td>25</td>\n",
       "      <td>9</td>\n",
       "      <td>8</td>\n",
       "      <td>41</td>\n",
       "      <td>1</td>\n",
       "    </tr>\n",
       "    <tr>\n",
       "      <th>1</th>\n",
       "      <td>37</td>\n",
       "      <td>10</td>\n",
       "      <td>16</td>\n",
       "      <td>58</td>\n",
       "      <td>2</td>\n",
       "    </tr>\n",
       "    <tr>\n",
       "      <th>2</th>\n",
       "      <td>43</td>\n",
       "      <td>20</td>\n",
       "      <td>17</td>\n",
       "      <td>74</td>\n",
       "      <td>1</td>\n",
       "    </tr>\n",
       "    <tr>\n",
       "      <th>3</th>\n",
       "      <td>44</td>\n",
       "      <td>32</td>\n",
       "      <td>23</td>\n",
       "      <td>95</td>\n",
       "      <td>3</td>\n",
       "    </tr>\n",
       "    <tr>\n",
       "      <th>4</th>\n",
       "      <td>41</td>\n",
       "      <td>37</td>\n",
       "      <td>23</td>\n",
       "      <td>96</td>\n",
       "      <td>3</td>\n",
       "    </tr>\n",
       "    <tr>\n",
       "      <th>...</th>\n",
       "      <td>...</td>\n",
       "      <td>...</td>\n",
       "      <td>...</td>\n",
       "      <td>...</td>\n",
       "      <td>...</td>\n",
       "    </tr>\n",
       "    <tr>\n",
       "      <th>447</th>\n",
       "      <td>46</td>\n",
       "      <td>28</td>\n",
       "      <td>33</td>\n",
       "      <td>100</td>\n",
       "      <td>2</td>\n",
       "    </tr>\n",
       "    <tr>\n",
       "      <th>448</th>\n",
       "      <td>32</td>\n",
       "      <td>16</td>\n",
       "      <td>12</td>\n",
       "      <td>57</td>\n",
       "      <td>1</td>\n",
       "    </tr>\n",
       "    <tr>\n",
       "      <th>449</th>\n",
       "      <td>30</td>\n",
       "      <td>9</td>\n",
       "      <td>12</td>\n",
       "      <td>46</td>\n",
       "      <td>2</td>\n",
       "    </tr>\n",
       "    <tr>\n",
       "      <th>450</th>\n",
       "      <td>43</td>\n",
       "      <td>25</td>\n",
       "      <td>16</td>\n",
       "      <td>80</td>\n",
       "      <td>0</td>\n",
       "    </tr>\n",
       "    <tr>\n",
       "      <th>451</th>\n",
       "      <td>37</td>\n",
       "      <td>25</td>\n",
       "      <td>17</td>\n",
       "      <td>76</td>\n",
       "      <td>0</td>\n",
       "    </tr>\n",
       "  </tbody>\n",
       "</table>\n",
       "<p>452 rows × 5 columns</p>\n",
       "</div>"
      ],
      "text/plain": [
       "      R   G   B    C  Class\n",
       "0    25   9   8   41      1\n",
       "1    37  10  16   58      2\n",
       "2    43  20  17   74      1\n",
       "3    44  32  23   95      3\n",
       "4    41  37  23   96      3\n",
       "..   ..  ..  ..  ...    ...\n",
       "447  46  28  33  100      2\n",
       "448  32  16  12   57      1\n",
       "449  30   9  12   46      2\n",
       "450  43  25  16   80      0\n",
       "451  37  25  17   76      0\n",
       "\n",
       "[452 rows x 5 columns]"
      ]
     },
     "metadata": {},
     "output_type": "display_data"
    }
   ],
   "source": [
    "classNames = ['Bananas', 'Oranges','RedApples','GreenApples']\n",
    "fn = 'FruitFiles/bananas.csv'\n",
    "banana_data = pd.read_csv(fn, names=['I', 'R', 'G', 'B', 'C', 'SampleNum'])\n",
    "banana_data['Class']=0\n",
    "\n",
    "fn = 'FruitFiles/oranges.csv'\n",
    "orange_data = pd.read_csv(fn, names=['I', 'R', 'G', 'B', 'C', 'SampleNum'])\n",
    "orange_data['Class']=1\n",
    "\n",
    "fn = 'FruitFiles/RedApples.csv'\n",
    "red_apple_data = pd.read_csv(fn, names=['I', 'R', 'G', 'B', 'C', 'SampleNum'])\n",
    "red_apple_data['Class']=2\n",
    "\n",
    "fn = 'FruitFiles/GreenApples.csv'\n",
    "green_apple_data = pd.read_csv(fn, names=['I', 'R', 'G', 'B', 'C', 'SampleNum'])\n",
    "green_apple_data['Class']=3\n",
    "\n",
    "frames = [banana_data, orange_data, red_apple_data, green_apple_data]\n",
    "data = pd.concat(frames)\n",
    "\n",
    "# The 'I' and 'SampleNum' columns represent the sample number from the perspective of the data logger and embedded\n",
    "# code respectively.  They are in place primarily as a visual check of the data stream accuracy, and are\n",
    "# not needed for the machine learning task.  So drop them.\n",
    "data = data.drop(['I', 'SampleNum'], axis=1)\n",
    "print('Data shape retreived from the features data file is: ', str(data.shape))\n",
    "\n",
    "# Shuffle the data\n",
    "data = data.sample(frac=1).reset_index(drop=True)\n",
    "\n",
    "display(data)"
   ]
  },
  {
   "cell_type": "markdown",
   "metadata": {},
   "source": [
    "# Normalize RGB values by C\n",
    "Since conceptully, the C channel should react to each of R, G & B components, it can be viewed as the overall light\n",
    "intensity.  To make the classifier more robust, we'll normalize RGB components by C so that they reflect a relative percentage of the light, rather than absolute intensity of each channel.  Note that C is not precisely = R+G+B, but it's close enough to provide a pretty good approximation.\n",
    "\n",
    "<b>WARNING!</b> We're doing this normalization \"in place\", meaning that the original features dataframe is reused.  Cells must be run in the order shown or you'll get strange results."
   ]
  },
  {
   "cell_type": "code",
   "execution_count": 7,
   "metadata": {},
   "outputs": [
    {
     "data": {
      "text/html": [
       "<div>\n",
       "<style scoped>\n",
       "    .dataframe tbody tr th:only-of-type {\n",
       "        vertical-align: middle;\n",
       "    }\n",
       "\n",
       "    .dataframe tbody tr th {\n",
       "        vertical-align: top;\n",
       "    }\n",
       "\n",
       "    .dataframe thead th {\n",
       "        text-align: right;\n",
       "    }\n",
       "</style>\n",
       "<table border=\"1\" class=\"dataframe\">\n",
       "  <thead>\n",
       "    <tr style=\"text-align: right;\">\n",
       "      <th></th>\n",
       "      <th>Class</th>\n",
       "      <th>Rnorm</th>\n",
       "      <th>Gnorm</th>\n",
       "      <th>Bnorm</th>\n",
       "    </tr>\n",
       "  </thead>\n",
       "  <tbody>\n",
       "    <tr>\n",
       "      <th>0</th>\n",
       "      <td>1</td>\n",
       "      <td>0.609756</td>\n",
       "      <td>0.219512</td>\n",
       "      <td>0.195122</td>\n",
       "    </tr>\n",
       "    <tr>\n",
       "      <th>1</th>\n",
       "      <td>2</td>\n",
       "      <td>0.637931</td>\n",
       "      <td>0.172414</td>\n",
       "      <td>0.275862</td>\n",
       "    </tr>\n",
       "    <tr>\n",
       "      <th>2</th>\n",
       "      <td>1</td>\n",
       "      <td>0.581081</td>\n",
       "      <td>0.270270</td>\n",
       "      <td>0.229730</td>\n",
       "    </tr>\n",
       "    <tr>\n",
       "      <th>3</th>\n",
       "      <td>3</td>\n",
       "      <td>0.463158</td>\n",
       "      <td>0.336842</td>\n",
       "      <td>0.242105</td>\n",
       "    </tr>\n",
       "    <tr>\n",
       "      <th>4</th>\n",
       "      <td>3</td>\n",
       "      <td>0.427083</td>\n",
       "      <td>0.385417</td>\n",
       "      <td>0.239583</td>\n",
       "    </tr>\n",
       "  </tbody>\n",
       "</table>\n",
       "</div>"
      ],
      "text/plain": [
       "   Class     Rnorm     Gnorm     Bnorm\n",
       "0      1  0.609756  0.219512  0.195122\n",
       "1      2  0.637931  0.172414  0.275862\n",
       "2      1  0.581081  0.270270  0.229730\n",
       "3      3  0.463158  0.336842  0.242105\n",
       "4      3  0.427083  0.385417  0.239583"
      ]
     },
     "execution_count": 7,
     "metadata": {},
     "output_type": "execute_result"
    }
   ],
   "source": [
    "features = data\n",
    "features['Rnorm']=features['R'].divide(features['C'])\n",
    "features['Gnorm']=features['G'].divide(features['C'])\n",
    "features['Bnorm']=features['B'].divide(features['C'])\n",
    "features=features.drop(['R', 'G', 'B', 'C'], axis=1)\n",
    "features.to_csv('FruitFiles/features.csv', index=False)\n",
    "features.head()"
   ]
  },
  {
   "cell_type": "markdown",
   "metadata": {},
   "source": [
    "# Check to see if the data set is balanced\n",
    "You want your training set to be balanced, that is have the same number of samples for each class.  Otherwise you run the risk of having a biased model.  If unbalanced, you can:\n",
    "* collect more samples\n",
    "* resample your database (see https://elitedatascience.com/imbalanced-classes and https://www.kaggle.com/rafjaa/resampling-strategies-for-imbalanced-datasets)"
   ]
  },
  {
   "cell_type": "code",
   "execution_count": 8,
   "metadata": {},
   "outputs": [
    {
     "name": "stdout",
     "output_type": "stream",
     "text": [
      "Bananas \t:  112\n",
      "Oranges \t:  112\n",
      "RedApples \t:  115\n",
      "GreenApples \t:  113\n"
     ]
    }
   ],
   "source": [
    "counts = features['Class'].value_counts()\n",
    "\n",
    "for i in range(4):\n",
    "    print(classNames[i], '\\t: ', counts[i])"
   ]
  },
  {
   "cell_type": "markdown",
   "metadata": {},
   "source": [
    "# Split features and class membership into separate tables."
   ]
  },
  {
   "cell_type": "code",
   "execution_count": 9,
   "metadata": {},
   "outputs": [
    {
     "name": "stdout",
     "output_type": "stream",
     "text": [
      "Features:\n"
     ]
    },
    {
     "data": {
      "text/html": [
       "<div>\n",
       "<style scoped>\n",
       "    .dataframe tbody tr th:only-of-type {\n",
       "        vertical-align: middle;\n",
       "    }\n",
       "\n",
       "    .dataframe tbody tr th {\n",
       "        vertical-align: top;\n",
       "    }\n",
       "\n",
       "    .dataframe thead th {\n",
       "        text-align: right;\n",
       "    }\n",
       "</style>\n",
       "<table border=\"1\" class=\"dataframe\">\n",
       "  <thead>\n",
       "    <tr style=\"text-align: right;\">\n",
       "      <th></th>\n",
       "      <th>Rnorm</th>\n",
       "      <th>Gnorm</th>\n",
       "      <th>Bnorm</th>\n",
       "    </tr>\n",
       "  </thead>\n",
       "  <tbody>\n",
       "    <tr>\n",
       "      <th>0</th>\n",
       "      <td>0.609756</td>\n",
       "      <td>0.219512</td>\n",
       "      <td>0.195122</td>\n",
       "    </tr>\n",
       "    <tr>\n",
       "      <th>1</th>\n",
       "      <td>0.637931</td>\n",
       "      <td>0.172414</td>\n",
       "      <td>0.275862</td>\n",
       "    </tr>\n",
       "    <tr>\n",
       "      <th>2</th>\n",
       "      <td>0.581081</td>\n",
       "      <td>0.270270</td>\n",
       "      <td>0.229730</td>\n",
       "    </tr>\n",
       "    <tr>\n",
       "      <th>3</th>\n",
       "      <td>0.463158</td>\n",
       "      <td>0.336842</td>\n",
       "      <td>0.242105</td>\n",
       "    </tr>\n",
       "    <tr>\n",
       "      <th>4</th>\n",
       "      <td>0.427083</td>\n",
       "      <td>0.385417</td>\n",
       "      <td>0.239583</td>\n",
       "    </tr>\n",
       "  </tbody>\n",
       "</table>\n",
       "</div>"
      ],
      "text/plain": [
       "      Rnorm     Gnorm     Bnorm\n",
       "0  0.609756  0.219512  0.195122\n",
       "1  0.637931  0.172414  0.275862\n",
       "2  0.581081  0.270270  0.229730\n",
       "3  0.463158  0.336842  0.242105\n",
       "4  0.427083  0.385417  0.239583"
      ]
     },
     "metadata": {},
     "output_type": "display_data"
    },
    {
     "name": "stdout",
     "output_type": "stream",
     "text": [
      "Results:\n"
     ]
    },
    {
     "data": {
      "text/plain": [
       "0    1\n",
       "1    2\n",
       "2    1\n",
       "3    3\n",
       "4    3\n",
       "Name: Class, dtype: int32"
      ]
     },
     "metadata": {},
     "output_type": "display_data"
    },
    {
     "data": {
      "text/plain": [
       "array([1, 2, 3, 0], dtype=int64)"
      ]
     },
     "execution_count": 9,
     "metadata": {},
     "output_type": "execute_result"
    }
   ],
   "source": [
    "results=features['Class'].astype(int)\n",
    "features = features.drop(['Class'], axis=1)\n",
    "print('Features:')\n",
    "display(features.head())\n",
    "print('Results:')\n",
    "display(results.head())\n",
    "# List out the unique class assignments as a check (should be 0 through 3).\n",
    "results.unique()"
   ]
  },
  {
   "cell_type": "markdown",
   "metadata": {},
   "source": [
    "# Split data into training and test sets\n",
    "You should always separate your data into separate training and validation sub-sets."
   ]
  },
  {
   "cell_type": "code",
   "execution_count": 10,
   "metadata": {},
   "outputs": [],
   "source": [
    "X_train, X_test, Y_train, Y_test = train_test_split(features.to_numpy(), results.to_numpy(), test_size=0.33, random_state=37)\n"
   ]
  },
  {
   "cell_type": "markdown",
   "metadata": {},
   "source": [
    "# Subroutine for XY plots: myScatter()\n",
    "This utility function can create an XY plot of two features found in the input table.  We use it here to look at 2D slices of our 3D data.\n",
    "\n",
    "This particular function works with numpy arrays only."
   ]
  },
  {
   "cell_type": "code",
   "execution_count": 11,
   "metadata": {},
   "outputs": [
    {
     "name": "stdout",
     "output_type": "stream",
     "text": [
      "Normalized input data\n"
     ]
    },
    {
     "data": {
      "image/png": "[encoded data removed]",
      "text/plain": [
       "<Figure size 432x288 with 1 Axes>"
      ]
     },
     "metadata": {
      "needs_background": "light"
     },
     "output_type": "display_data"
    },
    {
     "data": {
      "image/png": "[encoded data removed]",
      "text/plain": [
       "<Figure size 432x288 with 1 Axes>"
      ]
     },
     "metadata": {
      "needs_background": "light"
     },
     "output_type": "display_data"
    },
    {
     "data": {
      "image/png": "[encoded data removed]",
      "text/plain": [
       "<Figure size 432x288 with 1 Axes>"
      ]
     },
     "metadata": {
      "needs_background": "light"
     },
     "output_type": "display_data"
    }
   ],
   "source": [
    "def myScatter(featureNames, X, idx0, idx1, Y):\n",
    "    labels=['Off', 'Low', 'Medium', 'High']\n",
    "    color = ['yellow', 'orange', 'red', 'green']\n",
    "    fig, ax = plt.subplots()\n",
    "    x0 = X[:,idx0]\n",
    "    x1 = X[:,idx1]\n",
    "    for g in np.unique(Y):\n",
    "        ix = np.where(g==Y)\n",
    "        c=color[g]\n",
    "        ax.scatter(x0[ix], x1[ix], c=c, label=labels[g])\n",
    "    plt.legend(loc='best', frameon=False, labels=['Bananas', 'Oranges', 'RedApples', 'GreenApples'])\n",
    "    plt.xlabel(featureNames[idx0])\n",
    "    plt.ylabel(featureNames[idx1])\n",
    "\n",
    "print('Normalized input data')\n",
    "myScatter(features.columns, X_train, 0, 1, Y_train)\n",
    "myScatter(features.columns, X_train, 0, 2, Y_train)\n",
    "myScatter(features.columns, X_train, 1, 2, Y_train)\n"
   ]
  },
  {
   "cell_type": "markdown",
   "metadata": {},
   "source": [
    "# Train a model\n",
    "We've included three classifier options here: multilayer perceptron, AdaBoost Classifier which uses max 2-deep decision\n",
    "trees as base estimators, and LogisticRegression.  Choose mt=1, 2 or 3 to select which one you want to run."
   ]
  },
  {
   "cell_type": "code",
   "execution_count": 20,
   "metadata": {},
   "outputs": [
    {
     "name": "stdout",
     "output_type": "stream",
     "text": [
      "Training set score: 0.996689\n",
      "Test set score: 0.886667\n"
     ]
    }
   ],
   "source": [
    "mt = 4\n",
    "\n",
    "if mt==1:\n",
    "    model = MLPClassifier(hidden_layer_sizes=(12,), max_iter=1000, alpha=1e-4,\n",
    "                        solver='sgd', verbose=10, random_state=1,\n",
    "                        learning_rate_init=.1, batch_size=10, shuffle=True)\n",
    "elif mt==2:\n",
    "    model=LogisticRegression(C=1)   \n",
    "    \n",
    "elif mt==3:\n",
    "    n_estimators=10\n",
    "    model=AdaBoostClassifier(base_estimator=DecisionTreeClassifier(max_depth=2), \n",
    "                             algorithm=\"SAMME.R\", n_estimators=n_estimators, random_state=777)\n",
    "    \n",
    "elif mt==4:\n",
    "    model=DecisionTreeClassifier(random_state=0)\n",
    "    \n",
    "elif mt==5:\n",
    "    model=RandomForestClassifier(max_depth=3, random_state=0)\n",
    "\n",
    "elif mt==6:\n",
    "    model=svm.SVC(kernel='linear', gamma=.25)\n",
    "\n",
    "elif mt==7:\n",
    "    model=GaussianNB()\n",
    "\n",
    "\n",
    "clf=model.fit(X_train, Y_train)\n",
    "\n",
    "print(\"Training set score: %f\" % model.score(X_train, Y_train))\n",
    "print(\"Test set score: %f\" % model.score(X_test, Y_test))"
   ]
  },
  {
   "cell_type": "markdown",
   "metadata": {},
   "source": [
    "# Now look at the confusion matrices\n",
    "## Training Confusion Matrix"
   ]
  },
  {
   "cell_type": "code",
   "execution_count": 21,
   "metadata": {},
   "outputs": [
    {
     "name": "stdout",
     "output_type": "stream",
     "text": [
      "Confusion matrix for the training set\n"
     ]
    },
    {
     "data": {
      "image/png": "[encoded data removed]",
      "text/plain": [
       "<Figure size 720x576 with 2 Axes>"
      ]
     },
     "metadata": {
      "needs_background": "light"
     },
     "output_type": "display_data"
    }
   ],
   "source": [
    "\n",
    "fig, ax = plt.subplots(1, 1, figsize=(10,8))\n",
    "print('Confusion matrix for the training set')\n",
    "cm1=metrics.plot_confusion_matrix(model, X_train, Y_train, ax=ax, display_labels=classNames, cmap=plt.cm.Blues, values_format='n')"
   ]
  },
  {
   "cell_type": "markdown",
   "metadata": {},
   "source": [
    "## Test Confusion Matrix"
   ]
  },
  {
   "cell_type": "code",
   "execution_count": 22,
   "metadata": {},
   "outputs": [
    {
     "name": "stdout",
     "output_type": "stream",
     "text": [
      "Confusion matrix for the test set\n"
     ]
    },
    {
     "data": {
      "image/png": "[encoded data removed]",
      "text/plain": [
       "<Figure size 720x576 with 2 Axes>"
      ]
     },
     "metadata": {
      "needs_background": "light"
     },
     "output_type": "display_data"
    }
   ],
   "source": [
    "fig, ax = plt.subplots(1, 1, figsize=(10,8))\n",
    "print('Confusion matrix for the test set')\n",
    "cm2=metrics.plot_confusion_matrix(model, X_test, Y_test, ax=ax, display_labels=classNames, cmap=plt.cm.Blues, values_format='n')"
   ]
  },
  {
   "cell_type": "markdown",
   "metadata": {},
   "source": [
    "# Convert model to \"C\" if possible\n",
    "## Using the MicroML converter\n",
    "Reference: https://github.com/eloquentarduino/micromlgen\n",
    "\n",
    "The MicroML converter supports (among others):\n",
    "* Decision Tree\n",
    "* Random Forest\n",
    "* Support Vector Machines"
   ]
  },
  {
   "cell_type": "code",
   "execution_count": 23,
   "metadata": {},
   "outputs": [
    {
     "name": "stdout",
     "output_type": "stream",
     "text": [
      "#pragma once\n",
      "#include <cstdarg>\n",
      "namespace Eloquent {\n",
      "    namespace ML {\n",
      "        namespace Port {\n",
      "            class DecisionTree {\n",
      "                public:\n",
      "                    /**\n",
      "                    * Predict class for features vector\n",
      "                    */\n",
      "                    int predict(float *x) {\n",
      "                        if (x[1] <= 0.3032273054122925) {\n",
      "                            if (x[1] <= 0.2431386336684227) {\n",
      "                                if (x[2] <= 0.20606061071157455) {\n",
      "                                    return 1;\n",
      "                                }\n",
      "\n",
      "                                else {\n",
      "                                    if (x[1] <= 0.23446089029312134) {\n",
      "                                        return 2;\n",
      "                                    }\n",
      "\n",
      "                                    else {\n",
      "                                        if (x[1] <= 0.23774703592061996) {\n",
      "                                            return 1;\n",
      "                                        }\n",
      "\n",
      "                                        else {\n",
      "                                            return 2;\n",
      "                                        }\n",
      "                                    }\n",
      "                                }\n",
      "                            }\n",
      "\n",
      "                            else {\n",
      "                                if (x[2] <= 0.24795082211494446) {\n",
      "                                    if (x[0] <= 0.5508620738983154) {\n",
      "                                        if (x[0] <= 0.5489726066589355) {\n",
      "                                            if (x[1] <= 0.29689162969589233) {\n",
      "                                                return 1;\n",
      "                                            }\n",
      "\n",
      "                                            else {\n",
      "                                                if (x[2] <= 0.19978651404380798) {\n",
      "                                                    return 1;\n",
      "                                                }\n",
      "\n",
      "                                                else {\n",
      "                                                    return 0;\n",
      "                                                }\n",
      "                                            }\n",
      "                                        }\n",
      "\n",
      "                                        else {\n",
      "                                            return 0;\n",
      "                                        }\n",
      "                                    }\n",
      "\n",
      "                                    else {\n",
      "                                        return 1;\n",
      "                                    }\n",
      "                                }\n",
      "\n",
      "                                else {\n",
      "                                    return 2;\n",
      "                                }\n",
      "                            }\n",
      "                        }\n",
      "\n",
      "                        else {\n",
      "                            if (x[1] <= 0.35620300471782684) {\n",
      "                                if (x[2] <= 0.30425266921520233) {\n",
      "                                    if (x[2] <= 0.19704487174749374) {\n",
      "                                        if (x[1] <= 0.3164386451244354) {\n",
      "                                            if (x[0] <= 0.5575346648693085) {\n",
      "                                                if (x[0] <= 0.5519814789295197) {\n",
      "                                                    return 1;\n",
      "                                                }\n",
      "\n",
      "                                                else {\n",
      "                                                    return 1;\n",
      "                                                }\n",
      "                                            }\n",
      "\n",
      "                                            else {\n",
      "                                                return 0;\n",
      "                                            }\n",
      "                                        }\n",
      "\n",
      "                                        else {\n",
      "                                            return 0;\n",
      "                                        }\n",
      "                                    }\n",
      "\n",
      "                                    else {\n",
      "                                        if (x[1] <= 0.35388994216918945) {\n",
      "                                            if (x[1] <= 0.337279349565506) {\n",
      "                                                return 0;\n",
      "                                            }\n",
      "\n",
      "                                            else {\n",
      "                                                if (x[1] <= 0.33742469549179077) {\n",
      "                                                    return 3;\n",
      "                                                }\n",
      "\n",
      "                                                else {\n",
      "                                                    return 0;\n",
      "                                                }\n",
      "                                            }\n",
      "                                        }\n",
      "\n",
      "                                        else {\n",
      "                                            if (x[2] <= 0.24087435752153397) {\n",
      "                                                return 0;\n",
      "                                            }\n",
      "\n",
      "                                            else {\n",
      "                                                return 3;\n",
      "                                            }\n",
      "                                        }\n",
      "                                    }\n",
      "                                }\n",
      "\n",
      "                                else {\n",
      "                                    if (x[2] <= 0.3840909004211426) {\n",
      "                                        return 3;\n",
      "                                    }\n",
      "\n",
      "                                    else {\n",
      "                                        return 2;\n",
      "                                    }\n",
      "                                }\n",
      "                            }\n",
      "\n",
      "                            else {\n",
      "                                if (x[0] <= 0.49907834827899933) {\n",
      "                                    if (x[2] <= 0.30628518760204315) {\n",
      "                                        return 3;\n",
      "                                    }\n",
      "\n",
      "                                    else {\n",
      "                                        if (x[0] <= 0.3897174298763275) {\n",
      "                                            return 3;\n",
      "                                        }\n",
      "\n",
      "                                        else {\n",
      "                                            return 0;\n",
      "                                        }\n",
      "                                    }\n",
      "                                }\n",
      "\n",
      "                                else {\n",
      "                                    if (x[0] <= 0.5298701524734497) {\n",
      "                                        return 0;\n",
      "                                    }\n",
      "\n",
      "                                    else {\n",
      "                                        return 2;\n",
      "                                    }\n",
      "                                }\n",
      "                            }\n",
      "                        }\n",
      "                    }\n",
      "\n",
      "                    /**\n",
      "                    * Predict readable class name\n",
      "                    */\n",
      "                    const char* predictLabel(float *x) {\n",
      "                        return idxToLabel(predict(x));\n",
      "                    }\n",
      "\n",
      "                    /**\n",
      "                    * Convert class idx to readable name\n",
      "                    */\n",
      "                    const char* idxToLabel(uint8_t classIdx) {\n",
      "                        switch (classIdx) {\n",
      "                            case 0:\n",
      "                            return \"Bananas\";\n",
      "                            case 1:\n",
      "                            return \"Oranges\";\n",
      "                            case 2:\n",
      "                            return \"RedApples\";\n",
      "                            case 3:\n",
      "                            return \"GreenApples\";\n",
      "                            default:\n",
      "                            return \"Houston we have a problem\";\n",
      "                        }\n",
      "                    }\n",
      "\n",
      "                protected:\n",
      "                };\n",
      "            }\n",
      "        }\n",
      "    }\n"
     ]
    }
   ],
   "source": [
    "cm = {\n",
    "    0: classNames[0],\n",
    "    1: classNames[1],\n",
    "    2: classNames[2],\n",
    "    3: classNames[3]\n",
    "}\n",
    "if mt>3:\n",
    "    print(port(clf, classmap=cm))"
   ]
  },
  {
   "cell_type": "markdown",
   "metadata": {},
   "source": [
    "## Using the sklearn-porter\n",
    "Reference: https://github.com/nok/sklearn-porter\n",
    "        \n",
    "sklearn-porter appears to be a much more ambitious effort than Eloquent (which appears to have one primary developer).  sklearn-porter offers model prediction support for Java, Javascript, C, Go, PHP and Ruby.  At the time that this notebook was written, this library can export the following to C code.\n",
    "* svm.SVC\n",
    "* svm.NuSVC\n",
    "* svm.LinearSVC\n",
    "* tree.DecisionTreeClassifier\n",
    "* ensemble.RandomForestClassifier\n",
    "* ensemble.ExtraTreesClassifier\n",
    "* ensemble.AdaBoostClassifier\n",
    "\n",
    "See the reference above to determine what model types are supported for other languages."
   ]
  },
  {
   "cell_type": "code",
   "execution_count": 24,
   "metadata": {},
   "outputs": [
    {
     "name": "stdout",
     "output_type": "stream",
     "text": [
      "#include <stdlib.h>\n",
      "#include <stdio.h>\n",
      "#include <math.h>\n",
      "\n",
      "int predict(float features[3]) {\n",
      "\n",
      "    int classes[4];\n",
      "        \n",
      "    if (features[1] <= 0.3032273054122925) {\n",
      "        if (features[1] <= 0.2431386336684227) {\n",
      "            if (features[2] <= 0.20606061071157455) {\n",
      "                classes[0] = 0; \n",
      "                classes[1] = 2; \n",
      "                classes[2] = 0; \n",
      "                classes[3] = 0; \n",
      "            } else {\n",
      "                if (features[1] <= 0.23446089029312134) {\n",
      "                    classes[0] = 0; \n",
      "                    classes[1] = 0; \n",
      "                    classes[2] = 61; \n",
      "                    classes[3] = 0; \n",
      "                } else {\n",
      "                    if (features[1] <= 0.23774703592061996) {\n",
      "                        classes[0] = 0; \n",
      "                        classes[1] = 1; \n",
      "                        classes[2] = 0; \n",
      "                        classes[3] = 0; \n",
      "                    } else {\n",
      "                        classes[0] = 0; \n",
      "                        classes[1] = 0; \n",
      "                        classes[2] = 3; \n",
      "                        classes[3] = 0; \n",
      "                    }\n",
      "                }\n",
      "            }\n",
      "        } else {\n",
      "            if (features[2] <= 0.24795082211494446) {\n",
      "                if (features[0] <= 0.5508620738983154) {\n",
      "                    if (features[0] <= 0.5489726066589355) {\n",
      "                        if (features[1] <= 0.29689162969589233) {\n",
      "                            classes[0] = 0; \n",
      "                            classes[1] = 4; \n",
      "                            classes[2] = 0; \n",
      "                            classes[3] = 0; \n",
      "                        } else {\n",
      "                            if (features[2] <= 0.19978651404380798) {\n",
      "                                classes[0] = 0; \n",
      "                                classes[1] = 1; \n",
      "                                classes[2] = 0; \n",
      "                                classes[3] = 0; \n",
      "                            } else {\n",
      "                                classes[0] = 1; \n",
      "                                classes[1] = 0; \n",
      "                                classes[2] = 0; \n",
      "                                classes[3] = 0; \n",
      "                            }\n",
      "                        }\n",
      "                    } else {\n",
      "                        classes[0] = 1; \n",
      "                        classes[1] = 0; \n",
      "                        classes[2] = 0; \n",
      "                        classes[3] = 0; \n",
      "                    }\n",
      "                } else {\n",
      "                    classes[0] = 0; \n",
      "                    classes[1] = 67; \n",
      "                    classes[2] = 0; \n",
      "                    classes[3] = 0; \n",
      "                }\n",
      "            } else {\n",
      "                classes[0] = 0; \n",
      "                classes[1] = 0; \n",
      "                classes[2] = 7; \n",
      "                classes[3] = 0; \n",
      "            }\n",
      "        }\n",
      "    } else {\n",
      "        if (features[1] <= 0.35620300471782684) {\n",
      "            if (features[2] <= 0.30425266921520233) {\n",
      "                if (features[2] <= 0.19704487174749374) {\n",
      "                    if (features[1] <= 0.3164386451244354) {\n",
      "                        if (features[0] <= 0.5575346648693085) {\n",
      "                            if (features[0] <= 0.5519814789295197) {\n",
      "                                classes[0] = 1; \n",
      "                                classes[1] = 3; \n",
      "                                classes[2] = 0; \n",
      "                                classes[3] = 0; \n",
      "                            } else {\n",
      "                                classes[0] = 0; \n",
      "                                classes[1] = 3; \n",
      "                                classes[2] = 0; \n",
      "                                classes[3] = 0; \n",
      "                            }\n",
      "                        } else {\n",
      "                            classes[0] = 3; \n",
      "                            classes[1] = 0; \n",
      "                            classes[2] = 0; \n",
      "                            classes[3] = 0; \n",
      "                        }\n",
      "                    } else {\n",
      "                        classes[0] = 3; \n",
      "                        classes[1] = 0; \n",
      "                        classes[2] = 0; \n",
      "                        classes[3] = 0; \n",
      "                    }\n",
      "                } else {\n",
      "                    if (features[1] <= 0.35388994216918945) {\n",
      "                        if (features[1] <= 0.337279349565506) {\n",
      "                            classes[0] = 50; \n",
      "                            classes[1] = 0; \n",
      "                            classes[2] = 0; \n",
      "                            classes[3] = 0; \n",
      "                        } else {\n",
      "                            if (features[1] <= 0.33742469549179077) {\n",
      "                                classes[0] = 0; \n",
      "                                classes[1] = 0; \n",
      "                                classes[2] = 0; \n",
      "                                classes[3] = 1; \n",
      "                            } else {\n",
      "                                classes[0] = 12; \n",
      "                                classes[1] = 0; \n",
      "                                classes[2] = 0; \n",
      "                                classes[3] = 0; \n",
      "                            }\n",
      "                        }\n",
      "                    } else {\n",
      "                        if (features[2] <= 0.24087435752153397) {\n",
      "                            classes[0] = 1; \n",
      "                            classes[1] = 0; \n",
      "                            classes[2] = 0; \n",
      "                            classes[3] = 0; \n",
      "                        } else {\n",
      "                            classes[0] = 0; \n",
      "                            classes[1] = 0; \n",
      "                            classes[2] = 0; \n",
      "                            classes[3] = 1; \n",
      "                        }\n",
      "                    }\n",
      "                }\n",
      "            } else {\n",
      "                if (features[2] <= 0.3840909004211426) {\n",
      "                    classes[0] = 0; \n",
      "                    classes[1] = 0; \n",
      "                    classes[2] = 0; \n",
      "                    classes[3] = 3; \n",
      "                } else {\n",
      "                    classes[0] = 0; \n",
      "                    classes[1] = 0; \n",
      "                    classes[2] = 1; \n",
      "                    classes[3] = 0; \n",
      "                }\n",
      "            }\n",
      "        } else {\n",
      "            if (features[0] <= 0.49907834827899933) {\n",
      "                if (features[2] <= 0.30628518760204315) {\n",
      "                    classes[0] = 0; \n",
      "                    classes[1] = 0; \n",
      "                    classes[2] = 0; \n",
      "                    classes[3] = 66; \n",
      "                } else {\n",
      "                    if (features[0] <= 0.3897174298763275) {\n",
      "                        classes[0] = 0; \n",
      "                        classes[1] = 0; \n",
      "                        classes[2] = 0; \n",
      "                        classes[3] = 2; \n",
      "                    } else {\n",
      "                        classes[0] = 2; \n",
      "                        classes[1] = 0; \n",
      "                        classes[2] = 0; \n",
      "                        classes[3] = 0; \n",
      "                    }\n",
      "                }\n",
      "            } else {\n",
      "                if (features[0] <= 0.5298701524734497) {\n",
      "                    classes[0] = 1; \n",
      "                    classes[1] = 0; \n",
      "                    classes[2] = 0; \n",
      "                    classes[3] = 0; \n",
      "                } else {\n",
      "                    classes[0] = 0; \n",
      "                    classes[1] = 0; \n",
      "                    classes[2] = 1; \n",
      "                    classes[3] = 0; \n",
      "                }\n",
      "            }\n",
      "        }\n",
      "    }\n",
      "\n",
      "    int index = 0;\n",
      "    for (int i = 0; i < 4; i++) {\n",
      "        index = classes[i] > classes[index] ? i : index;\n",
      "    }\n",
      "    return index;\n",
      "}\n",
      "\n",
      "int main(int argc, const char * argv[]) {\n",
      "\n",
      "    /* Features: */\n",
      "    double features[argc-1];\n",
      "    int i;\n",
      "    for (i = 1; i < argc; i++) {\n",
      "        features[i-1] = atof(argv[i]);\n",
      "    }\n",
      "\n",
      "    /* Prediction: */\n",
      "    printf(\"%d\", predict(features));\n",
      "    return 0;\n",
      "\n",
      "}\n"
     ]
    },
    {
     "name": "stderr",
     "output_type": "stream",
     "text": [
      "C:\\SPB_Data\\.conda\\envs\\sensmach\\lib\\site-packages\\sklearn\\utils\\deprecation.py:144: FutureWarning: The sklearn.neural_network.multilayer_perceptron module is  deprecated in version 0.22 and will be removed in version 0.24. The corresponding classes / functions should instead be imported from sklearn.neural_network. Anything that cannot be imported from sklearn.neural_network is now part of the private API.\n",
      "  warnings.warn(message, FutureWarning)\n"
     ]
    }
   ],
   "source": [
    "if mt>2 and mt!=7:\n",
    "    porter = Porter(clf, language='c')\n",
    "    output = porter.export(embed_data=True)\n",
    "    print(output)"
   ]
  },
  {
   "cell_type": "markdown",
   "metadata": {},
   "source": [
    "## Using emlearn\n",
    "Reference: https://github.com/emlearn/emlearn\n",
    "\n",
    "The emlearn exporter relies on a separate C++ library for operation.  Generated models are not self-contained.  It offers support for MLP, Decision Tree, Random Forest and Naive Bayes classifiers."
   ]
  },
  {
   "cell_type": "code",
   "execution_count": 25,
   "metadata": {},
   "outputs": [
    {
     "data": {
      "text/plain": [
       "'\\n    // !!! This file is generated using emlearn !!!\\n\\n    #include <eml_trees.h>\\n    \\n\\nEmlTreesNode model_nodes[29] = {\\n  { 1, 0.3032273054122925, 1, 13 },\\n  { 1, 0.2431386336684227, 2, 7 },\\n  { 2, 0.20606061071157455, 3, 4 },\\n  { -1, 1, -1, -1 },\\n  { 1, 0.23446089029312134, 5, 6 },\\n  { -1, 2, -1, -1 },\\n  { 1, 0.23774703592061996, 3, 5 },\\n  { 2, 0.24795082211494446, 8, 5 },\\n  { 0, 0.5508620738983154, 9, 3 },\\n  { 0, 0.5489726066589355, 10, 12 },\\n  { 1, 0.29689162969589233, 3, 11 },\\n  { 2, 0.19978651404380798, 3, 12 },\\n  { -1, 0, -1, -1 },\\n  { 1, 0.35620300471782684, 14, 25 },\\n  { 2, 0.30425266921520233, 15, 24 },\\n  { 2, 0.19704487174749374, 16, 19 },\\n  { 1, 0.3164386451244354, 17, 12 },\\n  { 0, 0.5575346648693085, 18, 12 },\\n  { 0, 0.5519814789295197, 3, 3 },\\n  { 1, 0.35388994216918945, 20, 23 },\\n  { 1, 0.337279349565506, 12, 21 },\\n  { 1, 0.33742469549179077, 22, 12 },\\n  { -1, 3, -1, -1 },\\n  { 2, 0.24087435752153397, 12, 22 },\\n  { 2, 0.3840909004211426, 22, 5 },\\n  { 0, 0.49907834827899933, 26, 28 },\\n  { 2, 0.30628518760204315, 22, 27 },\\n  { 0, 0.3897174298763275, 22, 12 },\\n  { 0, 0.5298701524734497, 12, 5 } \\n};\\n\\nint32_t model_tree_roots[1] = { 0 };\\n\\nEmlTrees model = {\\n        29,\\n        model_nodes,\\t  \\n        1,\\n        model_tree_roots,\\n    };\\n\\nstatic inline int32_t model_predict_tree_0(const float *features, int32_t features_length) {\\n          if (features[1] < 0.3032273054122925) {\\n              if (features[1] < 0.2431386336684227) {\\n                  if (features[2] < 0.20606061071157455) {\\n                      return 1;\\n                  } else {\\n                      if (features[1] < 0.23446089029312134) {\\n                          return 2;\\n                      } else {\\n                          if (features[1] < 0.23774703592061996) {\\n                              return 1;\\n                          } else {\\n                              return 2;\\n                          }\\n                      }\\n                  }\\n              } else {\\n                  if (features[2] < 0.24795082211494446) {\\n                      if (features[0] < 0.5508620738983154) {\\n                          if (features[0] < 0.5489726066589355) {\\n                              if (features[1] < 0.29689162969589233) {\\n                                  return 1;\\n                              } else {\\n                                  if (features[2] < 0.19978651404380798) {\\n                                      return 1;\\n                                  } else {\\n                                      return 0;\\n                                  }\\n                              }\\n                          } else {\\n                              return 0;\\n                          }\\n                      } else {\\n                          return 1;\\n                      }\\n                  } else {\\n                      return 2;\\n                  }\\n              }\\n          } else {\\n              if (features[1] < 0.35620300471782684) {\\n                  if (features[2] < 0.30425266921520233) {\\n                      if (features[2] < 0.19704487174749374) {\\n                          if (features[1] < 0.3164386451244354) {\\n                              if (features[0] < 0.5575346648693085) {\\n                                  if (features[0] < 0.5519814789295197) {\\n                                      return 1;\\n                                  } else {\\n                                      return 1;\\n                                  }\\n                              } else {\\n                                  return 0;\\n                              }\\n                          } else {\\n                              return 0;\\n                          }\\n                      } else {\\n                          if (features[1] < 0.35388994216918945) {\\n                              if (features[1] < 0.337279349565506) {\\n                                  return 0;\\n                              } else {\\n                                  if (features[1] < 0.33742469549179077) {\\n                                      return 3;\\n                                  } else {\\n                                      return 0;\\n                                  }\\n                              }\\n                          } else {\\n                              if (features[2] < 0.24087435752153397) {\\n                                  return 0;\\n                              } else {\\n                                  return 3;\\n                              }\\n                          }\\n                      }\\n                  } else {\\n                      if (features[2] < 0.3840909004211426) {\\n                          return 3;\\n                      } else {\\n                          return 2;\\n                      }\\n                  }\\n              } else {\\n                  if (features[0] < 0.49907834827899933) {\\n                      if (features[2] < 0.30628518760204315) {\\n                          return 3;\\n                      } else {\\n                          if (features[0] < 0.3897174298763275) {\\n                              return 3;\\n                          } else {\\n                              return 0;\\n                          }\\n                      }\\n                  } else {\\n                      if (features[0] < 0.5298701524734497) {\\n                          return 0;\\n                      } else {\\n                          return 2;\\n                      }\\n                  }\\n              }\\n          }\\n        }\\n        \\n\\nint32_t model_predict(const float *features, int32_t features_length) {\\n\\n        int32_t votes[4] = {0,};\\n        int32_t _class = -1;\\n\\n        _class = model_predict_tree_0(features, features_length); votes[_class] += 1;\\n    \\n        int32_t most_voted_class = -1;\\n        int32_t most_voted_votes = 0;\\n        for (int32_t i=0; i<4; i++) {\\n\\n            if (votes[i] > most_voted_votes) {\\n                most_voted_class = i;\\n                most_voted_votes = votes[i];\\n            }\\n        }\\n        return most_voted_class;\\n    }\\n    '"
      ]
     },
     "execution_count": 25,
     "metadata": {},
     "output_type": "execute_result"
    }
   ],
   "source": [
    "if mt==1 or mt==7:\n",
    "    cmodel = emlearn.convert(clf)\n",
    "elif mt==4 or mt==5:\n",
    "    cmodel = emlearn.convert(clf, method='inline')\n",
    "\n",
    "cmodel.save(file='FruitFiles/model.h')"
   ]
  },
  {
   "cell_type": "code",
   "execution_count": null,
   "metadata": {},
   "outputs": [],
   "source": []
  }
 ],
 "metadata": {
  "kernelspec": {
   "display_name": "Python 3",
   "language": "python",
   "name": "python3"
  },
  "language_info": {
   "codemirror_mode": {
    "name": "ipython",
    "version": 3
   },
   "file_extension": ".py",
   "mimetype": "text/x-python",
   "name": "python",
   "nbconvert_exporter": "python",
   "pygments_lexer": "ipython3",
   "version": "3.7.6"
  },
  "toc": {
   "base_numbering": 1,
   "nav_menu": {},
   "number_sections": true,
   "sideBar": true,
   "skip_h1_title": false,
   "title_cell": "Table of Contents",
   "title_sidebar": "Contents",
   "toc_cell": false,
   "toc_position": {
    "height": "calc(100% - 180px)",
    "left": "10px",
    "top": "150px",
    "width": "341.333px"
   },
   "toc_section_display": true,
   "toc_window_display": true
  }
 },
 "nbformat": 4,
 "nbformat_minor": 1
}
